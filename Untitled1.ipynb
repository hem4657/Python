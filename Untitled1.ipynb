{
 "cells": [
  {
   "cell_type": "code",
   "execution_count": 2,
   "id": "096bd9ca-880d-479a-a042-3e5add5ba30e",
   "metadata": {},
   "outputs": [],
   "source": [
    "myobject = open('myfile.txt', 'w')\n",
    "lines = ['hello hemant kumawat\\n', 'hello kuldeep jaat\\n', 'hello kurshed khan']\n",
    "myobject.writelines(lines)"
   ]
  },
  {
   "cell_type": "code",
   "execution_count": 3,
   "id": "e05253fb-9312-43ef-88f4-32e5d4532d44",
   "metadata": {},
   "outputs": [
    {
     "data": {
      "text/plain": [
       "'hello hemant kum'"
      ]
     },
     "execution_count": 3,
     "metadata": {},
     "output_type": "execute_result"
    }
   ],
   "source": [
    "myobject = open('myfile.txt', 'r')\n",
    "myobject.read(16)"
   ]
  },
  {
   "cell_type": "code",
   "execution_count": 4,
   "id": "0e48b916-e2a1-4056-8cd1-687a68866585",
   "metadata": {},
   "outputs": [
    {
     "name": "stdout",
     "output_type": "stream",
     "text": [
      "['hello hemant kumawat\\n']\n"
     ]
    }
   ],
   "source": [
    "myobject = open('myfile.txt', 'r')\n",
    "print (myobject.readlines(10))"
   ]
  },
  {
   "cell_type": "code",
   "execution_count": 12,
   "id": "c4f180d9-34ee-4629-8775-7fdc1dc30ba8",
   "metadata": {},
   "outputs": [
    {
     "name": "stdout",
     "output_type": "stream",
     "text": [
      "['hello', 'hemant', 'kumawat']\n",
      "['hello', 'kuldeep', 'jaat']\n",
      "['hello', 'kurshed', 'khan']\n"
     ]
    }
   ],
   "source": [
    "myobject = open('myfile.txt', 'r')\n",
    "d=myobject.readlines()\n",
    "for lines in d:\n",
    "    words=lines.split()\n",
    "    print(words)"
   ]
  },
  {
   "cell_type": "code",
   "execution_count": 13,
   "id": "39459584-4f03-42f9-ac90-a30c99612ed0",
   "metadata": {},
   "outputs": [
    {
     "name": "stdout",
     "output_type": "stream",
     "text": [
      "['hello hemant kumawat']\n",
      "['hello kuldeep jaat']\n",
      "['hello kurshed khan']\n"
     ]
    }
   ],
   "source": [
    "myobject = open('myfile.txt', 'r')\n",
    "d=myobject.readlines()\n",
    "for lines in d:\n",
    "    words=lines.splitlines()\n",
    "    print(words)"
   ]
  },
  {
   "cell_type": "code",
   "execution_count": 19,
   "id": "463c206e-4440-4e69-a722-fd39f1498feb",
   "metadata": {},
   "outputs": [
    {
     "name": "stdin",
     "output_type": "stream",
     "text": [
      "Enter the Code line to be wriiten in the file:  hemant\n"
     ]
    },
    {
     "name": "stdout",
     "output_type": "stream",
     "text": [
      "now reading the code line the file: \n",
      "hemant\n"
     ]
    }
   ],
   "source": [
    "fobject=open('codeline.txt', 'w')\n",
    "code = input('Enter the Code line to be wriiten in the file: ')\n",
    "fobject.write(code)\n",
    "print('now reading the code line the file: ')\n",
    "fobject=open('codeline.txt', 'r')\n",
    "for str in fobject:\n",
    "    print(str)"
   ]
  }
 ],
 "metadata": {
  "kernelspec": {
   "display_name": "Python 3 (ipykernel)",
   "language": "python",
   "name": "python3"
  },
  "language_info": {
   "codemirror_mode": {
    "name": "ipython",
    "version": 3
   },
   "file_extension": ".py",
   "mimetype": "text/x-python",
   "name": "python",
   "nbconvert_exporter": "python",
   "pygments_lexer": "ipython3",
   "version": "3.13.5"
  }
 },
 "nbformat": 4,
 "nbformat_minor": 5
}
