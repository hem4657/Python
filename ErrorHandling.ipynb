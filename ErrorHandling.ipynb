{
 "cells": [
  {
   "cell_type": "code",
   "execution_count": null,
   "id": "87c8bde4-0095-4f47-a994-fb12c6c2be30",
   "metadata": {},
   "outputs": [],
   "source": [
    "try :\n",
    "    numerator = 50\n",
    "    denom = int(input(\"Enter The denominator\"))\n",
    "    quotient = (numerator/denom)\n",
    "    print(quotient)\n",
    "    print(\"division performed sucessfully\")\n",
    "except zeroDivisionError:\n",
    "    print(\"denominator as zero... not allowed\")\n",
    "print(“OUTSIDE try..except block\")"
   ]
  },
  {
   "cell_type": "code",
   "execution_count": null,
   "id": "8fb02857-9e64-481b-a205-f1ec180c70d4",
   "metadata": {},
   "outputs": [],
   "source": []
  }
 ],
 "metadata": {
  "kernelspec": {
   "display_name": "Python 3 (ipykernel)",
   "language": "python",
   "name": "python3"
  },
  "language_info": {
   "codemirror_mode": {
    "name": "ipython",
    "version": 3
   },
   "file_extension": ".py",
   "mimetype": "text/x-python",
   "name": "python",
   "nbconvert_exporter": "python",
   "pygments_lexer": "ipython3",
   "version": "3.13.5"
  }
 },
 "nbformat": 4,
 "nbformat_minor": 5
}
