{
 "cells": [
  {
   "cell_type": "code",
   "execution_count": 5,
   "id": "82683fc6-101a-470d-8a77-1c2f1ff4fea5",
   "metadata": {},
   "outputs": [
    {
     "name": "stdout",
     "output_type": "stream",
     "text": [
      "mohan  :  95\n",
      "sohan  :  45\n",
      "kuldeep  :  95\n",
      "hemant  :  96\n"
     ]
    }
   ],
   "source": [
    "dict1 = {'mohan' : 95, 'sohan' : 45 , 'kuldeep' : 95, 'hemant' : 96}\n",
    "for key,value in dict1.items():\n",
    "    print(key, ' : ' , value)"
   ]
  },
  {
   "cell_type": "code",
   "execution_count": 6,
   "id": "e4a25249-d0b1-477d-9235-08d9278e61ef",
   "metadata": {},
   "outputs": [
    {
     "name": "stdout",
     "output_type": "stream",
     "text": [
      "mohan  :  95\n",
      "sohan  :  45\n",
      "kuldeep  :  95\n",
      "hemant  :  96\n"
     ]
    }
   ],
   "source": [
    "dict1 = {'mohan' : 95, 'sohan' : 45 , 'kuldeep' : 95, 'hemant' : 96}\n",
    "for key in dict1:\n",
    "    print(key, ' : ' , dict1[key])"
   ]
  },
  {
   "cell_type": "code",
   "execution_count": 12,
   "id": "6b7e206c-1560-4fe4-b510-eee40df2c11f",
   "metadata": {},
   "outputs": [
    {
     "name": "stdin",
     "output_type": "stream",
     "text": [
      "Enter the number of employees whose data to be stored:  2\n",
      "Enter the name of Employee:  hemant\n",
      "Enter the Salary:  15000\n",
      "Enter the name of Employee:  kuldeep\n",
      "Enter the Salary:  25000\n"
     ]
    },
    {
     "name": "stdout",
     "output_type": "stream",
     "text": [
      "\n",
      "\n",
      "EMPLOYEE_NAME\tSALARY\n",
      "hemant \t\t 15000\n",
      "kuldeep \t\t 25000\n"
     ]
    }
   ],
   "source": [
    "num = int(input(\"Enter the number of employees whose data to be stored: \"))\n",
    "count = 1\n",
    "employee = dict()\n",
    "while count <= num:\n",
    "    name = input(\"Enter the name of Employee: \")\n",
    "    salary = int(input(\"Enter the Salary: \"))\n",
    "    employee[name] = salary\n",
    "    count += 1\n",
    "print(\"\\n\\nEMPLOYEE_NAME\\tSALARY\")\n",
    "for k in employee:\n",
    "    print(k,'\\t\\t', employee[k])"
   ]
  },
  {
   "cell_type": "code",
   "execution_count": 1,
   "id": "01c4f343-08ec-4a6a-a759-7c6cb38eef4c",
   "metadata": {},
   "outputs": [
    {
     "data": {
      "text/plain": [
       "6"
      ]
     },
     "execution_count": 1,
     "metadata": {},
     "output_type": "execute_result"
    }
   ],
   "source": [
    "tuple1 = (10,30,50,40,20,60)\n",
    "len(tuple1)"
   ]
  },
  {
   "cell_type": "code",
   "execution_count": 3,
   "id": "4351db29-8270-42d2-b710-4abe1af6104f",
   "metadata": {},
   "outputs": [
    {
     "data": {
      "text/plain": [
       "('h', 'e', 'm', 'a', 'n', 't')"
      ]
     },
     "execution_count": 3,
     "metadata": {},
     "output_type": "execute_result"
    }
   ],
   "source": [
    "tuple1 = tuple()\n",
    "tuple1\n",
    "tuple1 = tuple(\"hemant\")\n",
    "tuple1"
   ]
  },
  {
   "cell_type": "code",
   "execution_count": 5,
   "id": "d5f0e7df-4e2e-421b-be26-524884badc37",
   "metadata": {},
   "outputs": [
    {
     "data": {
      "text/plain": [
       "(1, 2, 3)"
      ]
     },
     "execution_count": 5,
     "metadata": {},
     "output_type": "execute_result"
    }
   ],
   "source": [
    "tuple2 = tuple([1,2,3])\n",
    "tuple2"
   ]
  },
  {
   "cell_type": "code",
   "execution_count": 6,
   "id": "2b479fe3-9406-4613-9cd3-9bd39ce3d6c7",
   "metadata": {},
   "outputs": [
    {
     "data": {
      "text/plain": [
       "(0, 1, 2, 3, 4)"
      ]
     },
     "execution_count": 6,
     "metadata": {},
     "output_type": "execute_result"
    }
   ],
   "source": [
    "tuple3 = tuple(range(5))\n",
    "tuple3"
   ]
  },
  {
   "cell_type": "markdown",
   "id": "bc06848d-0dc1-4fc8-acd4-68dfb2e1f791",
   "metadata": {},
   "source": [
    "// dictionary //"
   ]
  },
  {
   "cell_type": "code",
   "execution_count": 7,
   "id": "20b07a01-8d7c-4c29-93df-3374c422e191",
   "metadata": {},
   "outputs": [
    {
     "data": {
      "text/plain": [
       "4"
      ]
     },
     "execution_count": 7,
     "metadata": {},
     "output_type": "execute_result"
    }
   ],
   "source": [
    "dict1 = {\"hemant\" : 25, \"kuldeep\": 65, \"khursed\": 85, \"narender\": 75}\n",
    "len(dict1)"
   ]
  },
  {
   "cell_type": "code",
   "execution_count": 11,
   "id": "685b072f-1ac7-4164-a868-3e3e91ccf0a6",
   "metadata": {},
   "outputs": [
    {
     "data": {
      "text/plain": [
       "{'hemant': 25, 'kuldeep': 65, 'khursed': 85, 'narender': 75}"
      ]
     },
     "execution_count": 11,
     "metadata": {},
     "output_type": "execute_result"
    }
   ],
   "source": [
    "pair1 = [(\"hemant\", 25), (\"kuldeep\", 65), (\"khursed\", 85), (\"narender\", 75)]\n",
    "pair1\n",
    "dict1 = dict(pair1)\n",
    "dict1"
   ]
  },
  {
   "cell_type": "code",
   "execution_count": 12,
   "id": "14470999-2244-44e1-b042-b4d2f740a3c6",
   "metadata": {},
   "outputs": [
    {
     "data": {
      "text/plain": [
       "dict_keys(['hemant', 'kuldeep', 'khursed', 'narender'])"
      ]
     },
     "execution_count": 12,
     "metadata": {},
     "output_type": "execute_result"
    }
   ],
   "source": [
    "dict2 = {\"hemant\" : 25, \"kuldeep\": 65, \"khursed\": 85, \"narender\": 75}\n",
    "dict2.keys()"
   ]
  },
  {
   "cell_type": "code",
   "execution_count": 13,
   "id": "e46ef75a-5da2-4329-97a6-eb5cbe30e964",
   "metadata": {},
   "outputs": [
    {
     "data": {
      "text/plain": [
       "dict_values([25, 65, 85, 75])"
      ]
     },
     "execution_count": 13,
     "metadata": {},
     "output_type": "execute_result"
    }
   ],
   "source": [
    "dict3 = {\"hemant\" : 25, \"kuldeep\": 65, \"khursed\": 85, \"narender\": 75}\n",
    "dict3.values()"
   ]
  },
  {
   "cell_type": "code",
   "execution_count": 15,
   "id": "85e5effa-0708-40c1-9017-f4e79b59f5dc",
   "metadata": {},
   "outputs": [
    {
     "data": {
      "text/plain": [
       "dict_items([('hemant', 25), ('kuldeep', 65), ('khursed', 85), ('narender', 75)])"
      ]
     },
     "execution_count": 15,
     "metadata": {},
     "output_type": "execute_result"
    }
   ],
   "source": [
    "dict4 = {\"hemant\" : 25, \"kuldeep\": 65, \"khursed\": 85, \"narender\": 75}\n",
    "dict4.items()"
   ]
  },
  {
   "cell_type": "code",
   "execution_count": 16,
   "id": "156c2273-243f-4747-8b36-2c5bfbb958e8",
   "metadata": {},
   "outputs": [
    {
     "data": {
      "text/plain": [
       "85"
      ]
     },
     "execution_count": 16,
     "metadata": {},
     "output_type": "execute_result"
    }
   ],
   "source": [
    "dict5 = {\"hemant\" : 25, \"kuldeep\": 65, \"khursed\": 85, \"narender\": 75}\n",
    "dict5.get(\"khursed\")"
   ]
  },
  {
   "cell_type": "code",
   "execution_count": 19,
   "id": "d69c3680-e892-4b57-8576-c877bdd95ad2",
   "metadata": {},
   "outputs": [
    {
     "data": {
      "text/plain": [
       "{'mohan': 25, 'pardeep': 65, 'vijay': 85, 'shubham': 75}"
      ]
     },
     "execution_count": 19,
     "metadata": {},
     "output_type": "execute_result"
    }
   ],
   "source": [
    "dict1 = {\"hemant\" : 25, \"kuldeep\": 65, \"khursed\": 85, \"narender\": 75}\n",
    "dict2 = {\"mohan\" : 25, \"pardeep\": 65, \"vijay\": 85, \"shubham\": 75}\n",
    "dict1.update(dict2)\n",
    "dict1\n",
    "dict2"
   ]
  },
  {
   "cell_type": "code",
   "execution_count": 23,
   "id": "f782f42f-c3f5-4a63-80ba-42f9627dca61",
   "metadata": {},
   "outputs": [],
   "source": [
    "dict2 = {\"mohan\" : 25, \"pardeep\": 65, \"vijay\": 85, \"shubham\": 75}\n",
    "del dict2[\"pardeep\"]\n",
    "dict2\n",
    "del dict2"
   ]
  },
  {
   "cell_type": "code",
   "execution_count": 25,
   "id": "13a7f352-729d-4e0d-8f92-c784e4367684",
   "metadata": {},
   "outputs": [
    {
     "data": {
      "text/plain": [
       "{}"
      ]
     },
     "execution_count": 25,
     "metadata": {},
     "output_type": "execute_result"
    }
   ],
   "source": [
    "dict2 = {\"mohan\" : 25, \"pardeep\": 65, \"vijay\": 85, \"shubham\": 75}\n",
    "dict2.clear()\n",
    "dict2"
   ]
  },
  {
   "cell_type": "code",
   "execution_count": 30,
   "id": "5011bbc3-0f97-45da-89d0-9e65124bfd6c",
   "metadata": {},
   "outputs": [
    {
     "name": "stdin",
     "output_type": "stream",
     "text": [
      "Enter a string:  helloworld\n"
     ]
    },
    {
     "name": "stdout",
     "output_type": "stream",
     "text": [
      "h : 1\n",
      "e : 1\n",
      "l : 3\n",
      "o : 2\n",
      "w : 1\n",
      "r : 1\n",
      "d : 1\n"
     ]
    }
   ],
   "source": [
    "st = input(\"Enter a string: \")\n",
    "dict1 = {}\n",
    "for ch in st:\n",
    "    if ch in dict1:\n",
    "        dict1[ch] += 1\n",
    "    else:\n",
    "        dict1[ch] = 1\n",
    "for key in dict1:\n",
    "    print(key, \":\", dict1[key])"
   ]
  },
  {
   "cell_type": "code",
   "execution_count": 32,
   "id": "2b07d387-3e4d-47ae-8211-6eb9aad9899e",
   "metadata": {},
   "outputs": [
    {
     "data": {
      "text/plain": [
       "{1: 'hemant', 2: 'kuldeep', 4: 'vishal', 8: 'vijay', 5: 'rajive', 3: 'ketan'}"
      ]
     },
     "execution_count": 32,
     "metadata": {},
     "output_type": "execute_result"
    }
   ],
   "source": [
    "ODD = {1: 'hemant', 2: 'kuldeep', 4: 'vishal', 8: 'vijay', 5: 'rajive', 3: 'ketan'}\n",
    "ODD"
   ]
  },
  {
   "cell_type": "code",
   "execution_count": 33,
   "id": "2f9585a1-8fe5-472b-9b4d-6c13151d1d4f",
   "metadata": {},
   "outputs": [
    {
     "data": {
      "text/plain": [
       "dict_keys([1, 2, 4, 8, 5, 3])"
      ]
     },
     "execution_count": 33,
     "metadata": {},
     "output_type": "execute_result"
    }
   ],
   "source": [
    "ODD.keys()"
   ]
  },
  {
   "cell_type": "code",
   "execution_count": 34,
   "id": "ca9ead7b-5d89-4644-b15d-60e3c58302f2",
   "metadata": {},
   "outputs": [
    {
     "data": {
      "text/plain": [
       "dict_values(['hemant', 'kuldeep', 'vishal', 'vijay', 'rajive', 'ketan'])"
      ]
     },
     "execution_count": 34,
     "metadata": {},
     "output_type": "execute_result"
    }
   ],
   "source": [
    "ODD.values()"
   ]
  },
  {
   "cell_type": "code",
   "execution_count": 35,
   "id": "674e1cac-4bed-459d-8d1f-954c91f2a0ea",
   "metadata": {},
   "outputs": [
    {
     "data": {
      "text/plain": [
       "dict_items([(1, 'hemant'), (2, 'kuldeep'), (4, 'vishal'), (8, 'vijay'), (5, 'rajive'), (3, 'ketan')])"
      ]
     },
     "execution_count": 35,
     "metadata": {},
     "output_type": "execute_result"
    }
   ],
   "source": [
    "ODD.items()"
   ]
  },
  {
   "cell_type": "code",
   "execution_count": 36,
   "id": "c62775dd-906a-47d3-9a17-7165590ef4e6",
   "metadata": {},
   "outputs": [
    {
     "data": {
      "text/plain": [
       "6"
      ]
     },
     "execution_count": 36,
     "metadata": {},
     "output_type": "execute_result"
    }
   ],
   "source": [
    "len(ODD)"
   ]
  },
  {
   "cell_type": "code",
   "execution_count": 39,
   "id": "158b70da-50ac-4fb6-ad8d-64486ff9614b",
   "metadata": {},
   "outputs": [
    {
     "data": {
      "text/plain": [
       "True"
      ]
     },
     "execution_count": 39,
     "metadata": {},
     "output_type": "execute_result"
    }
   ],
   "source": [
    "5 in ODD"
   ]
  },
  {
   "cell_type": "code",
   "execution_count": 38,
   "id": "7a4494f3-d731-4aa8-b4e1-fe6fe43a0dae",
   "metadata": {},
   "outputs": [
    {
     "data": {
      "text/plain": [
       "False"
      ]
     },
     "execution_count": 38,
     "metadata": {},
     "output_type": "execute_result"
    }
   ],
   "source": [
    "9 in ODD"
   ]
  },
  {
   "cell_type": "code",
   "execution_count": 40,
   "id": "abd62553-bb59-490a-8ecc-c3f7d666b8ba",
   "metadata": {},
   "outputs": [],
   "source": [
    "ODD.get(7)"
   ]
  },
  {
   "cell_type": "code",
   "execution_count": null,
   "id": "ad4c8e69-4861-4302-9c08-d3ef85650115",
   "metadata": {},
   "outputs": [],
   "source": []
  }
 ],
 "metadata": {
  "kernelspec": {
   "display_name": "Python 3 (ipykernel)",
   "language": "python",
   "name": "python3"
  },
  "language_info": {
   "codemirror_mode": {
    "name": "ipython",
    "version": 3
   },
   "file_extension": ".py",
   "mimetype": "text/x-python",
   "name": "python",
   "nbconvert_exporter": "python",
   "pygments_lexer": "ipython3",
   "version": "3.13.5"
  }
 },
 "nbformat": 4,
 "nbformat_minor": 5
}
