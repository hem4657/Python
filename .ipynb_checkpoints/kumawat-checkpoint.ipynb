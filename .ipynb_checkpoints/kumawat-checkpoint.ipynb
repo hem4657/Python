{
 "cells": [
  {
   "cell_type": "code",
   "execution_count": 2,
   "id": "4a8eb4db-8c2b-4009-81e8-11b68767d131",
   "metadata": {},
   "outputs": [
    {
     "name": "stdout",
     "output_type": "stream",
     "text": [
      "1 2 3 "
     ]
    }
   ],
   "source": [
    "print(1,end=\" \")\n",
    "print(2,end=\" \")\n",
    "print(3,end=\" \")"
   ]
  },
  {
   "cell_type": "code",
   "execution_count": 6,
   "id": "189409c7-6bb4-4f3c-81b3-40e2a0a199b5",
   "metadata": {},
   "outputs": [
    {
     "name": "stdout",
     "output_type": "stream",
     "text": [
      "enter a number to find its fector:  6\n"
     ]
    },
    {
     "name": "stdout",
     "output_type": "stream",
     "text": [
      "1 2 3 6 "
     ]
    }
   ],
   "source": [
    "num = int(input(\"enter a number to find its fector: \"))\n",
    "print(1,end =\" \")\n",
    "factor = 2\n",
    "while factor <= num/2:\n",
    "    if num % factor == 0:\n",
    "        print(factor,end = \" \")\n",
    "    factor += 1\n",
    "        \n",
    "print(num,end=\" \")"
   ]
  },
  {
   "cell_type": "code",
   "execution_count": null,
   "id": "a1300aa0-c3cc-446d-be9a-364a7f775fea",
   "metadata": {},
   "outputs": [
    {
     "name": "stdout",
     "output_type": "stream",
     "text": [
      "enter number to find thair true, nagetive ends the loop\n"
     ]
    }
   ],
   "source": [
    "entry = 0\n",
    "sum = 0\n",
    "print(\"enter number to find thair true, nagetive ends the loop\")\n",
    "while True:\n",
    "    entry = int(input())\n",
    "    if(entry < 0):\n",
    "        break\n",
    "    sum += entry\n",
    "print(\"sum : \", sum)"
   ]
  },
  {
   "cell_type": "code",
   "execution_count": 2,
   "id": "4b34bba9-1e64-489d-b140-6ba23f8387fb",
   "metadata": {},
   "outputs": [
    {
     "name": "stdout",
     "output_type": "stream",
     "text": [
      "Enter the number to be cheked:  2\n"
     ]
    },
    {
     "name": "stdout",
     "output_type": "stream",
     "text": [
      "2 is a prime number\n"
     ]
    }
   ],
   "source": [
    "num = int(input(\"Enter the number to be cheked: \"))\n",
    "run = 0\n",
    "if num > 1 :\n",
    "    for i in range(2, int(num)):\n",
    "        if (num % i == 0):\n",
    "            run = 1\n",
    "            break\n",
    "    if run == 1:\n",
    "        print(num, \"is not a prime number\")\n",
    "    else:\n",
    "        print(num, \"is a prime number\")\n",
    "else:\n",
    "    print(\"Enter number is <= 1, execute agin!\")"
   ]
  },
  {
   "cell_type": "code",
   "execution_count": 7,
   "id": "1bf5562d-52b7-45cc-aa04-55333bcf1ec1",
   "metadata": {},
   "outputs": [
    {
     "name": "stdout",
     "output_type": "stream",
     "text": [
      "num has value 1\n",
      "num has value 2\n",
      "num has value 4\n",
      "num has value 5\n",
      "num has value 6\n",
      "num has value 7\n",
      "num has value 8\n",
      "num has value 9\n",
      "num has value 10\n",
      "end of loop\n"
     ]
    }
   ],
   "source": [
    "num = 0\n",
    "for num in range(0,10):\n",
    "    num = num + 1\n",
    "    if num == 3 || num == 6:\n",
    "        continue\n",
    "    print(\"num has value \" + str(num))\n",
    "print(\"end of loop\")"
   ]
  },
  {
   "cell_type": "code",
   "execution_count": 2,
   "id": "987b4d8a-a800-4927-8907-ac1e18a93d20",
   "metadata": {},
   "outputs": [
    {
     "data": {
      "text/plain": [
       "13"
      ]
     },
     "execution_count": 2,
     "metadata": {},
     "output_type": "execute_result"
    }
   ],
   "source": [
    "str1 = \"Hellow World!\"\n",
    "len(str1)"
   ]
  },
  {
   "cell_type": "code",
   "execution_count": 2,
   "id": "f01ea3bf-1a0f-43ff-bdd2-019a934f68f5",
   "metadata": {},
   "outputs": [
    {
     "data": {
      "text/plain": [
       "'Hellow World'"
      ]
     },
     "execution_count": 2,
     "metadata": {},
     "output_type": "execute_result"
    }
   ],
   "source": [
    "str1 = \"HELLOW WORLD\"\n",
    "str1.title()"
   ]
  },
  {
   "cell_type": "code",
   "execution_count": 3,
   "id": "2c2d0c3e-a4d8-4d72-82ec-058822d7e821",
   "metadata": {},
   "outputs": [
    {
     "data": {
      "text/plain": [
       "'hellow world'"
      ]
     },
     "execution_count": 3,
     "metadata": {},
     "output_type": "execute_result"
    }
   ],
   "source": [
    "str1 = \"hellow WORLD\"\n",
    "str1.lower()"
   ]
  },
  {
   "cell_type": "code",
   "execution_count": 4,
   "id": "00cb1857-89aa-4dd2-a3c6-0c4272840baf",
   "metadata": {},
   "outputs": [
    {
     "data": {
      "text/plain": [
       "'HELLOW WORLD'"
      ]
     },
     "execution_count": 4,
     "metadata": {},
     "output_type": "execute_result"
    }
   ],
   "source": [
    "str1 = \"hellow world\"\n",
    "str1.upper()"
   ]
  },
  {
   "cell_type": "code",
   "execution_count": 13,
   "id": "57d377a7-ad55-447d-98d5-4deb2c4e9e55",
   "metadata": {},
   "outputs": [
    {
     "data": {
      "text/plain": [
       "0"
      ]
     },
     "execution_count": 13,
     "metadata": {},
     "output_type": "execute_result"
    }
   ],
   "source": [
    "str1 = \"hellow hemant hellow hemant hellow hemant hellow hemant\"\n",
    "str1.count(\"hellow\",1,10)"
   ]
  },
  {
   "cell_type": "code",
   "execution_count": 7,
   "id": "cf95ee5d-cb0f-4205-8b05-3a165d8fca5d",
   "metadata": {},
   "outputs": [
    {
     "data": {
      "text/plain": [
       "'H'"
      ]
     },
     "execution_count": 7,
     "metadata": {},
     "output_type": "execute_result"
    }
   ],
   "source": [
    "str1 = \"Hellow Hemant!\"\n",
    "len(str1)\n",
    "\n",
    "n = len(str1)\n",
    "str1[n-1]\n",
    "\n",
    "str1[-n]"
   ]
  },
  {
   "cell_type": "code",
   "execution_count": 13,
   "id": "24da807e-b768-4210-9c5f-80bf40d967d3",
   "metadata": {},
   "outputs": [
    {
     "data": {
      "text/plain": [
       "'World!'"
      ]
     },
     "execution_count": 13,
     "metadata": {},
     "output_type": "execute_result"
    }
   ],
   "source": [
    "str1 = \"Hellow \"\n",
    "str2 = \"World!\"\n",
    "\n",
    "str1 + str2\n",
    "\n",
    "str1\n",
    "str2"
   ]
  },
  {
   "cell_type": "code",
   "execution_count": 18,
   "id": "181e04e4-604c-4255-ab97-a56990ed7fbe",
   "metadata": {},
   "outputs": [
    {
     "data": {
      "text/plain": [
       "'hemant hemant hemant hemant hemant '"
      ]
     },
     "execution_count": 18,
     "metadata": {},
     "output_type": "execute_result"
    }
   ],
   "source": [
    "str1 = \"hemant \"\n",
    "\n",
    "str1\n",
    "str1*2\n",
    "\n",
    "str1*5"
   ]
  },
  {
   "cell_type": "code",
   "execution_count": 20,
   "id": "75a5c0aa-148a-4653-8990-e69bd41421c7",
   "metadata": {},
   "outputs": [
    {
     "data": {
      "text/plain": [
       "False"
      ]
     },
     "execution_count": 20,
     "metadata": {},
     "output_type": "execute_result"
    }
   ],
   "source": [
    "str1 = \"hemant\"\n",
    "\n",
    "\"h\" in str1\n",
    "\n",
    "\"kh\" in str1"
   ]
  },
  {
   "cell_type": "code",
   "execution_count": 21,
   "id": "b682a292-6e1c-4a38-9417-a167f9b2d9a8",
   "metadata": {},
   "outputs": [
    {
     "data": {
      "text/plain": [
       "True"
      ]
     },
     "execution_count": 21,
     "metadata": {},
     "output_type": "execute_result"
    }
   ],
   "source": [
    "str1 = \"hemant\"\n",
    "\n",
    "\"kh\" not in str1"
   ]
  },
  {
   "cell_type": "code",
   "execution_count": 25,
   "id": "ed755bec-934e-48db-86de-dfa4632135c8",
   "metadata": {},
   "outputs": [
    {
     "data": {
      "text/plain": [
       "' Hemant!'"
      ]
     },
     "execution_count": 25,
     "metadata": {},
     "output_type": "execute_result"
    }
   ],
   "source": [
    "str1 = \"Hellow Hemant!\"\n",
    "\n",
    "str1[1:3]\n",
    "\n",
    "str1[1:10]\n",
    "str1[6:]"
   ]
  },
  {
   "cell_type": "code",
   "execution_count": 31,
   "id": "5cab6933-6826-44f5-901e-999809d49adf",
   "metadata": {},
   "outputs": [
    {
     "data": {
      "text/plain": [
       "'!el'"
      ]
     },
     "execution_count": 31,
     "metadata": {},
     "output_type": "execute_result"
    }
   ],
   "source": [
    "str1 = \"Hellow Hemant!\"\n",
    "\n",
    "str1[-7:-1]\n",
    "str1[::-5]"
   ]
  },
  {
   "cell_type": "code",
   "execution_count": 33,
   "id": "52683edb-6958-4b7b-bae2-83e0a0eb3fd2",
   "metadata": {},
   "outputs": [
    {
     "name": "stdout",
     "output_type": "stream",
     "text": [
      "Hellow Hemant!"
     ]
    }
   ],
   "source": [
    "str1 = \"Hellow Hemant!\"\n",
    "\n",
    "for hm in str1:\n",
    "    print(hm,end =\"\")"
   ]
  },
  {
   "cell_type": "code",
   "execution_count": 34,
   "id": "4430a916-f2d2-4f5c-9e57-d3e3da2622c2",
   "metadata": {},
   "outputs": [
    {
     "name": "stdout",
     "output_type": "stream",
     "text": [
      "Hellow Hemant!"
     ]
    }
   ],
   "source": [
    "str1 = \"Hellow Hemant!\"\n",
    "index = 0\n",
    "while index < len(str1):\n",
    "    print(str1[index],end =\"\")\n",
    "    index += 1"
   ]
  },
  {
   "cell_type": "code",
   "execution_count": 43,
   "id": "0145c203-942a-4d79-894d-f2d503599e56",
   "metadata": {},
   "outputs": [
    {
     "data": {
      "text/plain": [
       "0"
      ]
     },
     "execution_count": 43,
     "metadata": {},
     "output_type": "execute_result"
    }
   ],
   "source": [
    "str1 = \"Hellow Hemant! Hellow Hemant! Hellow Hemant! Hellow Hemant! Hellow Hemant! Hellow Hemant!\"\n",
    "str1.count(\"Hemant\",11,25)"
   ]
  },
  {
   "cell_type": "code",
   "execution_count": 46,
   "id": "544de40d-40fe-4c68-b549-ee833e488a63",
   "metadata": {},
   "outputs": [
    {
     "data": {
      "text/plain": [
       "7"
      ]
     },
     "execution_count": 46,
     "metadata": {},
     "output_type": "execute_result"
    }
   ],
   "source": [
    "str1 = \"Hellow Hemant! Hellow Hemant! Hellow Hemant! Hellow Hemant! Hellow Hemant! Hellow Hemant!\"\n",
    "str1.find(\"Hemant\",10,20)\n",
    "str1.find(\"Hemant\")"
   ]
  },
  {
   "cell_type": "code",
   "execution_count": null,
   "id": "81d75f4b-1d7a-4023-a2c1-aae304a9ed5a",
   "metadata": {},
   "outputs": [],
   "source": [
    "str1 = \"Hellow Hemant! Hellow Hemant! Hellow Hemant! Hellow Hemant! Hellow Hemant! Hellow Hemant!\"\n",
    "str1"
   ]
  },
  {
   "cell_type": "code",
   "execution_count": 10,
   "id": "44d03063-8317-45bf-874b-738444a84679",
   "metadata": {},
   "outputs": [
    {
     "name": "stdout",
     "output_type": "stream",
     "text": [
      "hello hemant 1\n"
     ]
    },
    {
     "name": "stdout",
     "output_type": "stream",
     "text": [
      "1"
     ]
    }
   ],
   "source": [
    "hem = input(\"hello hemant\")\n",
    "for i in range(-1,-len(hem)-1,-1):\n",
    "    print(hem[i],end =\"\")"
   ]
  },
  {
   "cell_type": "code",
   "execution_count": 13,
   "id": "4fdea94f-7e88-425e-b0e2-9cf496e234d1",
   "metadata": {},
   "outputs": [
    {
     "data": {
      "text/plain": [
       "0"
      ]
     },
     "execution_count": 13,
     "metadata": {},
     "output_type": "execute_result"
    }
   ],
   "source": [
    "str1 = \"Hellow Hemant! Hellow Hemant! Hellow Hemant! Hellow Hemant! Hellow Hemant! Hellow Hemant!\"\n",
    "str1.index('Hellow')"
   ]
  },
  {
   "cell_type": "code",
   "execution_count": 17,
   "id": "61881e0d-708b-4f04-a174-5e7707253d80",
   "metadata": {},
   "outputs": [
    {
     "data": {
      "text/plain": [
       "True"
      ]
     },
     "execution_count": 17,
     "metadata": {},
     "output_type": "execute_result"
    }
   ],
   "source": [
    "str1 = \"Hellow Hemant! Hellow Hemant! Hellow Hemant! Hellow Hemant! Hellow Hemant! Hellow Hemant!\"\n",
    "str1.endswith(\"Hemant!\")"
   ]
  },
  {
   "cell_type": "code",
   "execution_count": 18,
   "id": "9837f4a0-366f-42f0-bd1b-ca5b82b9a16a",
   "metadata": {},
   "outputs": [
    {
     "data": {
      "text/plain": [
       "True"
      ]
     },
     "execution_count": 18,
     "metadata": {},
     "output_type": "execute_result"
    }
   ],
   "source": [
    "str1 = \"Hellow Hemant! Hellow Hemant! Hellow Hemant! Hellow Hemant! Hellow Hemant! Hellow Hemant!\"\n",
    "str1.startswith('Hel')"
   ]
  },
  {
   "cell_type": "code",
   "execution_count": 20,
   "id": "16490e05-5ed4-4e2e-96ab-0efddfbadd60",
   "metadata": {},
   "outputs": [
    {
     "data": {
      "text/plain": [
       "True"
      ]
     },
     "execution_count": 20,
     "metadata": {},
     "output_type": "execute_result"
    }
   ],
   "source": [
    "str1 = 'hellohemant'\n",
    "str1.isalnum()"
   ]
  },
  {
   "cell_type": "code",
   "execution_count": 22,
   "id": "fcdb2746-5604-4d72-a789-74ca51ccd4f6",
   "metadata": {},
   "outputs": [
    {
     "data": {
      "text/plain": [
       "True"
      ]
     },
     "execution_count": 22,
     "metadata": {},
     "output_type": "execute_result"
    }
   ],
   "source": [
    "str1 = 'hellohemant4'\n",
    "str1.isalnum()"
   ]
  },
  {
   "cell_type": "code",
   "execution_count": 23,
   "id": "56fffed7-25ef-48ce-8559-9163c1f20c16",
   "metadata": {},
   "outputs": [
    {
     "data": {
      "text/plain": [
       "False"
      ]
     },
     "execution_count": 23,
     "metadata": {},
     "output_type": "execute_result"
    }
   ],
   "source": [
    "str1 = 'hellohemant!'\n",
    "str1.isalnum()"
   ]
  },
  {
   "cell_type": "code",
   "execution_count": 24,
   "id": "83f1ecca-4413-4ba2-a59c-92809ac07408",
   "metadata": {},
   "outputs": [
    {
     "data": {
      "text/plain": [
       "True"
      ]
     },
     "execution_count": 24,
     "metadata": {},
     "output_type": "execute_result"
    }
   ],
   "source": [
    "str1 = 'hello hemant!'\n",
    "str1.islower()"
   ]
  },
  {
   "cell_type": "code",
   "execution_count": 26,
   "id": "a808cfde-5cfe-48f0-9761-aa8baa1af2f5",
   "metadata": {},
   "outputs": [
    {
     "data": {
      "text/plain": [
       "False"
      ]
     },
     "execution_count": 26,
     "metadata": {},
     "output_type": "execute_result"
    }
   ],
   "source": [
    "str1 = 'Hello Hemant!'\n",
    "str1.islower()"
   ]
  },
  {
   "cell_type": "code",
   "execution_count": 27,
   "id": "99b356d8-f7e0-4a8d-ac50-0c8874fa739d",
   "metadata": {},
   "outputs": [
    {
     "data": {
      "text/plain": [
       "False"
      ]
     },
     "execution_count": 27,
     "metadata": {},
     "output_type": "execute_result"
    }
   ],
   "source": [
    "str1 = 'hello hemant!'\n",
    "str1.isupper()"
   ]
  },
  {
   "cell_type": "code",
   "execution_count": 29,
   "id": "a045b8d1-8b15-4660-989e-0019badc8727",
   "metadata": {},
   "outputs": [
    {
     "data": {
      "text/plain": [
       "True"
      ]
     },
     "execution_count": 29,
     "metadata": {},
     "output_type": "execute_result"
    }
   ],
   "source": [
    "str1 = 'HELLO HEMANT!'\n",
    "str1.isupper()"
   ]
  },
  {
   "cell_type": "code",
   "execution_count": 30,
   "id": "dcc6bf0b-524e-4796-a542-8fe1beb91601",
   "metadata": {},
   "outputs": [
    {
     "data": {
      "text/plain": [
       "False"
      ]
     },
     "execution_count": 30,
     "metadata": {},
     "output_type": "execute_result"
    }
   ],
   "source": [
    "str1 = 'hellohemant!'\n",
    "str1.isspace()"
   ]
  },
  {
   "cell_type": "code",
   "execution_count": 35,
   "id": "4dd98c20-ef17-457e-9ae3-96888f0a1411",
   "metadata": {},
   "outputs": [
    {
     "data": {
      "text/plain": [
       "False"
      ]
     },
     "execution_count": 35,
     "metadata": {},
     "output_type": "execute_result"
    }
   ],
   "source": [
    "str1 = 'h e l l o  h e m a n t ! '\n",
    "str1.isspace()"
   ]
  },
  {
   "cell_type": "code",
   "execution_count": 36,
   "id": "dcf8a76f-ab42-4646-a9d4-67c0a018f86b",
   "metadata": {},
   "outputs": [
    {
     "data": {
      "text/plain": [
       "False"
      ]
     },
     "execution_count": 36,
     "metadata": {},
     "output_type": "execute_result"
    }
   ],
   "source": [
    "str1 = 'hello hemant!'\n",
    "str1.istitle()"
   ]
  },
  {
   "cell_type": "code",
   "execution_count": 37,
   "id": "6cd40a05-6b51-46fc-bd83-ec862de78f30",
   "metadata": {},
   "outputs": [
    {
     "data": {
      "text/plain": [
       "True"
      ]
     },
     "execution_count": 37,
     "metadata": {},
     "output_type": "execute_result"
    }
   ],
   "source": [
    "str1 = 'Hello Hemant!'\n",
    "str1.istitle()"
   ]
  },
  {
   "cell_type": "code",
   "execution_count": 39,
   "id": "45d03d35-2332-4bf1-9e3b-9e6843e47785",
   "metadata": {},
   "outputs": [
    {
     "data": {
      "text/plain": [
       "'Hello Hemant!'"
      ]
     },
     "execution_count": 39,
     "metadata": {},
     "output_type": "execute_result"
    }
   ],
   "source": [
    "str1 = '   Hello Hemant!'\n",
    "str1.lstrip()"
   ]
  },
  {
   "cell_type": "code",
   "execution_count": 40,
   "id": "6d7f71a5-6a43-4dd6-bf94-b9ba70ce8f99",
   "metadata": {},
   "outputs": [
    {
     "data": {
      "text/plain": [
       "'    Hello Hemant!'"
      ]
     },
     "execution_count": 40,
     "metadata": {},
     "output_type": "execute_result"
    }
   ],
   "source": [
    "str1 = '    Hello Hemant!    '\n",
    "str1.rstrip()"
   ]
  },
  {
   "cell_type": "code",
   "execution_count": 41,
   "id": "a09f3a1d-5ddc-4deb-a7f4-8c263357df3f",
   "metadata": {},
   "outputs": [
    {
     "data": {
      "text/plain": [
       "'Hello Hemant!'"
      ]
     },
     "execution_count": 41,
     "metadata": {},
     "output_type": "execute_result"
    }
   ],
   "source": [
    "str1 = '    Hello Hemant!    '\n",
    "str1.strip()"
   ]
  },
  {
   "cell_type": "code",
   "execution_count": 42,
   "id": "ba2b5c79-0ea2-4c62-88e9-9e5bf424dd74",
   "metadata": {},
   "outputs": [
    {
     "data": {
      "text/plain": [
       "'Hello Hemant!'"
      ]
     },
     "execution_count": 42,
     "metadata": {},
     "output_type": "execute_result"
    }
   ],
   "source": [
    "str1 = 'H*llo H*mant!'\n",
    "str1.replace(\"*\", \"e\")"
   ]
  },
  {
   "cell_type": "code",
   "execution_count": 44,
   "id": "6cb21430-df23-4a68-94f6-a9557340a5f4",
   "metadata": {},
   "outputs": [
    {
     "data": {
      "text/plain": [
       "'Kumawat Hemant!'"
      ]
     },
     "execution_count": 44,
     "metadata": {},
     "output_type": "execute_result"
    }
   ],
   "source": [
    "str1 = 'Hello Hemant!'\n",
    "str1.replace(\"Hello\", \"Kumawat\")"
   ]
  },
  {
   "cell_type": "code",
   "execution_count": 46,
   "id": "a707829f-ad03-463b-abc8-d77dcbcab45f",
   "metadata": {},
   "outputs": [
    {
     "data": {
      "text/plain": [
       "'H-e-l-l-o- -H-e-m-a-n-t-!'"
      ]
     },
     "execution_count": 46,
     "metadata": {},
     "output_type": "execute_result"
    }
   ],
   "source": [
    "str1 = 'Hello Hemant!'\n",
    "str2 = \"-\"\n",
    "str2.join(str1)"
   ]
  },
  {
   "cell_type": "code",
   "execution_count": 48,
   "id": "fbe61a67-3266-4617-a5d4-f8c47ddce7a7",
   "metadata": {},
   "outputs": [
    {
     "data": {
      "text/plain": [
       "('Hello My Name Is Hemant Kumawat', '', '')"
      ]
     },
     "execution_count": 48,
     "metadata": {},
     "output_type": "execute_result"
    }
   ],
   "source": [
    "str1 = \"Hello My Name Is Hemant Kumawat\"\n",
    "str1.partition(\"My\")\n",
    "str1.partition(\"are\")"
   ]
  },
  {
   "cell_type": "code",
   "execution_count": 50,
   "id": "0d8797a6-43f0-4ec4-8398-223ce88b4aec",
   "metadata": {},
   "outputs": [
    {
     "data": {
      "text/plain": [
       "['Hello My Name ', ' Hemant Kumawat']"
      ]
     },
     "execution_count": 50,
     "metadata": {},
     "output_type": "execute_result"
    }
   ],
   "source": [
    "str1 = \"Hello My Name Is Hemant Kumawat\"\n",
    "str1.split()\n",
    "str1.split(\"Is\")"
   ]
  },
  {
   "cell_type": "code",
   "execution_count": 55,
   "id": "192c4ef6-5985-4974-829b-c96e2130fb22",
   "metadata": {},
   "outputs": [
    {
     "name": "stdout",
     "output_type": "stream",
     "text": [
      "Enter a string : \n",
      "Enter the charcter to be searched : \n"
     ]
    },
    {
     "name": "stdout",
     "output_type": "stream",
     "text": [
      "Number of times character  occurs in the string is : 0\n"
     ]
    }
   ],
   "source": [
    "def charcount(hk,hm):\n",
    "    count = 0\n",
    "    for character in hk:\n",
    "        if character == hm:\n",
    "            count += 1\n",
    "    return count\n",
    "\n",
    "hk = input(\"Enter a string :\")\n",
    "hm = input(\"Enter the charcter to be searched :\")\n",
    "count = charcount(hk,hm)\n",
    "print(\"Number of times character\",hk,\"occurs in the string is :\",count)"
   ]
  },
  {
   "cell_type": "code",
   "execution_count": 57,
   "id": "9c0913a5-a161-4449-a91e-bfe5f9c3a952",
   "metadata": {},
   "outputs": [
    {
     "name": "stdout",
     "output_type": "stream",
     "text": [
      "enter a string : this is the string\n"
     ]
    },
    {
     "name": "stdout",
     "output_type": "stream",
     "text": [
      "the original string is : this is the string\n",
      "the midifid string is : t*is is t** string\n"
     ]
    }
   ],
   "source": [
    "def replaceVowels(hk):\n",
    "    newstr = \"\"\n",
    "    for character in hk:\n",
    "        if character in \"hemANT\":\n",
    "            newstr += \"*\"\n",
    "        else:\n",
    "            newstr += character\n",
    "    return newstr\n",
    "\n",
    "hk = input(\"enter a string :\")\n",
    "str1 = replaceVowels(hk)\n",
    "print(\"the original string is :\", hk)\n",
    "print(\"the midifid string is :\", str1)"
   ]
  },
  {
   "cell_type": "code",
   "execution_count": 58,
   "id": "c77ac838-0fde-40c4-b05b-4cc7efec8eda",
   "metadata": {},
   "outputs": [
    {
     "name": "stdout",
     "output_type": "stream",
     "text": [
      "enter a string : hemant\n"
     ]
    },
    {
     "name": "stdout",
     "output_type": "stream",
     "text": [
      "the original string is : hemant\n",
      "the modified string is : tnameh\n"
     ]
    }
   ],
   "source": [
    "def reversestring(hk):\n",
    "    newstr = \"\"\n",
    "    length = len(hk)\n",
    "    for i in range(-1,-length-1,-1):\n",
    "        newstr += hk[i]\n",
    "    return newstr\n",
    "\n",
    "hk = input(\"enter a string :\")\n",
    "str1 = reversestring(hk)\n",
    "print(\"the original string is :\", hk)\n",
    "print(\"the modified string is :\", str1)"
   ]
  },
  {
   "cell_type": "code",
   "execution_count": null,
   "id": "7d3a6ddf-dbbc-4b7b-a0e5-a1010fb128a3",
   "metadata": {},
   "outputs": [],
   "source": [
    "def checkpalin(hk):\n",
    "    i = 0\n",
    "    j = len(hk)-1\n",
    "    while (i <= j):\n",
    "        if(hk[i] != hk[j]):\n",
    "            return false\n",
    "        i += 1\n",
    "        j += 1\n",
    "        return true\n",
    "\n",
    "hk = input(\"enter a string :\")\n",
    "result = checkpalin(hk)\n",
    "if result == true:\n",
    "    print(\"the given string\", hk, \"is a palindrom :\")\n",
    "else:\n",
    "    print(\"the given string\",hk,\"is not a palindrom :\")"
   ]
  },
  {
   "cell_type": "code",
   "execution_count": null,
   "id": "db80adb9-3fff-49c6-914c-34afeeb9b222",
   "metadata": {},
   "outputs": [],
   "source": []
  },
  {
   "cell_type": "code",
   "execution_count": null,
   "id": "3c441cdf",
   "metadata": {},
   "outputs": [],
   "source": []
  },
  {
   "cell_type": "code",
   "execution_count": null,
   "id": "0aae9bff",
   "metadata": {},
   "outputs": [],
   "source": []
  },
  {
   "cell_type": "code",
   "execution_count": null,
   "id": "74b4d3e8",
   "metadata": {},
   "outputs": [],
   "source": []
  }
 ],
 "metadata": {
  "kernelspec": {
   "display_name": "Python 3 (ipykernel)",
   "language": "python",
   "name": "python3"
  },
  "language_info": {
   "codemirror_mode": {
    "name": "ipython",
    "version": 3
   },
   "file_extension": ".py",
   "mimetype": "text/x-python",
   "name": "python",
   "nbconvert_exporter": "python",
   "pygments_lexer": "ipython3",
   "version": "3.13.5"
  }
 },
 "nbformat": 4,
 "nbformat_minor": 5
}
