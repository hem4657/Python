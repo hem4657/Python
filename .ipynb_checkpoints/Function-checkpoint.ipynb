{
 "cells": [
  {
   "cell_type": "code",
   "execution_count": 52,
   "id": "93035a65-5bbe-4c58-9257-3b8ab8c3d2d1",
   "metadata": {},
   "outputs": [
    {
     "ename": "IndentationError",
     "evalue": "unexpected indent (2196573728.py, line 13)",
     "output_type": "error",
     "traceback": [
      "  \u001b[36mCell\u001b[39m\u001b[36m \u001b[39m\u001b[32mIn[52]\u001b[39m\u001b[32m, line 13\u001b[39m\n\u001b[31m    \u001b[39m\u001b[31mcsa_cyl = cyl(h,r)\u001b[39m\n    ^\n\u001b[31mIndentationError\u001b[39m\u001b[31m:\u001b[39m unexpected indent\n"
     ]
    }
   ],
   "source": [
    "def cyl(h,r):\n",
    "    area_cyl = 2*3.14*r*h\n",
    "    return(area_cyl)\n",
    "\n",
    "def con(l,r):\n",
    "    area_con = 3.14*r*l\n",
    "    return(area_con)\n",
    "csa_con = con(l,r)\n",
    "print(\"Enter slant height of the conical area in meters: \")\n",
    "print(\"area of cylendrical part of meters :\")\n",
    "h = float(input(\"height :\"))\n",
    "r = float(input(\"redias :\"))\n",
    "   csa_cyl = cyl(h,r)\n",
    "   canvas_area = csa_cyl + csa_con\n",
    "print(\"area of canvas = canvas_area :\")"
   ]
  },
  {
   "cell_type": "code",
   "execution_count": null,
   "id": "1f269aea-5a16-4f45-bf1a-dabf239d6671",
   "metadata": {},
   "outputs": [],
   "source": []
  },
  {
   "cell_type": "code",
   "execution_count": 36,
   "id": "ff77bde0-a6b1-4b1f-8128-3081d8d82568",
   "metadata": {},
   "outputs": [
    {
     "name": "stdin",
     "output_type": "stream",
     "text": [
      "Enter a frist number : 5\n",
      "Enter a Second number : 3\n"
     ]
    },
    {
     "name": "stdout",
     "output_type": "stream",
     "text": [
      "The sum of  5 and  3 is  8\n"
     ]
    }
   ],
   "source": [
    "def addnum():\n",
    "    fnum = int(input(\"Enter a frist number :\"))\n",
    "    snum = int(input(\"Enter a Second number :\"))\n",
    "    sum = fnum + snum\n",
    "    print(\"The sum of \",fnum,\"and \",snum,\"is \",sum)\n",
    "addnum()"
   ]
  },
  {
   "cell_type": "code",
   "execution_count": 44,
   "id": "02be37ca-eee7-42ec-9ec9-507768fdd6d2",
   "metadata": {},
   "outputs": [
    {
     "name": "stdin",
     "output_type": "stream",
     "text": [
      "Enter the value for n: 2\n"
     ]
    },
    {
     "name": "stdout",
     "output_type": "stream",
     "text": [
      "the sum of frist 2 natureal number is : 3\n"
     ]
    }
   ],
   "source": [
    "def sumsqure(n):\n",
    "    sum = 0\n",
    "    for i in range(1, n + 1):\n",
    "      sum = sum + i\n",
    "    print(\"the sum of frist\",n,\"natureal number is :\", sum)\n",
    "num = int(input(\"Enter the value for n:\")) \n",
    "sumsqure(num)"
   ]
  },
  {
   "cell_type": "code",
   "execution_count": 46,
   "id": "ab363f4f-3b32-42e6-a7c2-d35086abccb2",
   "metadata": {},
   "outputs": [
    {
     "name": "stdin",
     "output_type": "stream",
     "text": [
      "Enter a number : 5\n"
     ]
    },
    {
     "name": "stdout",
     "output_type": "stream",
     "text": [
      "id of argument number is: 140729949897768\n",
      "parameter number has value: 5 \n",
      "id = 140729949897768\n",
      "num increment by 5 is: 10 \n",
      "now = id is 140729949897928\n"
     ]
    }
   ],
   "source": [
    "def incValue(num):\n",
    "    print(\"parameter number has value:\",num,\"\\nid =\", id(num))\n",
    "    num = num + 5\n",
    "    print(\"num increment by 5 is:\",num,\"\\nnow = id is\", id(num))\n",
    "number = int(input(\"Enter a number :\"))\n",
    "print(\"id of argument number is:\", id(number))\n",
    "incValue(number)"
   ]
  },
  {
   "cell_type": "code",
   "execution_count": 47,
   "id": "9629ec32-9940-4f10-bf7c-4d9fe2ca776e",
   "metadata": {},
   "outputs": [
    {
     "name": "stdout",
     "output_type": "stream",
     "text": [
      "the calculate mean is: 4.999999999999999\n"
     ]
    }
   ],
   "source": [
    "def myMean(List):\n",
    "    total = 0\n",
    "    count = 0\n",
    "    for i in List:\n",
    "        total = total + i\n",
    "        count = count + 1\n",
    "    mean = total/count\n",
    "    print(\"the calculate mean is:\",mean)\n",
    "mylist = [1.3,3.4,5.3,6.4,4.9,8.7]\n",
    "myMean(mylist)"
   ]
  },
  {
   "cell_type": "code",
   "execution_count": 54,
   "id": "bd45d622-79f3-4aed-b55a-44171d775789",
   "metadata": {},
   "outputs": [
    {
     "name": "stdin",
     "output_type": "stream",
     "text": [
      "Enter a fectoral number: 20\n"
     ]
    },
    {
     "name": "stdout",
     "output_type": "stream",
     "text": [
      "factorial of: 20 is 2432902008176640000\n"
     ]
    }
   ],
   "source": [
    "def calcFact(num):\n",
    "    fact = 1\n",
    "    for i in range(num,0,-1):\n",
    "        fact = fact * i\n",
    "    print(\"factorial of:\",num,\"is\",fact)\n",
    "num = int(input(\"Enter a fectoral number:\"))    \n",
    "calcFact(num)   "
   ]
  },
  {
   "cell_type": "code",
   "execution_count": 56,
   "id": "8fa6dc12-975b-41cf-a4cf-6bab981bab56",
   "metadata": {},
   "outputs": [
    {
     "name": "stdin",
     "output_type": "stream",
     "text": [
      "Enter a Frist name:  hemant\n",
      "Enter a Last name:  kumawat\n"
     ]
    },
    {
     "name": "stdout",
     "output_type": "stream",
     "text": [
      "hello hemant kumawat\n"
     ]
    }
   ],
   "source": [
    "def fullName(frist,last):\n",
    "    fullName = frist + \" \" + last\n",
    "    print(\"hello\", fullName)\n",
    "frist = input(\"Enter a Frist name: \")\n",
    "last = input(\"Enter a Last name: \")\n",
    "fullName(frist,last)"
   ]
  },
  {
   "cell_type": "code",
   "execution_count": 59,
   "id": "8087f562-bf07-4854-b096-a750339301b8",
   "metadata": {},
   "outputs": [
    {
     "ename": "SyntaxError",
     "evalue": "invalid syntax. Perhaps you forgot a comma? (2437492319.py, line 5)",
     "output_type": "error",
     "traceback": [
      "  \u001b[36mCell\u001b[39m\u001b[36m \u001b[39m\u001b[32mIn[59]\u001b[39m\u001b[32m, line 5\u001b[39m\n\u001b[31m    \u001b[39m\u001b[31mprint(\"the mixd fraction=\", quotient, \"(\" remainder, \"/\", deno,\")\")\u001b[39m\n                                          ^\n\u001b[31mSyntaxError\u001b[39m\u001b[31m:\u001b[39m invalid syntax. Perhaps you forgot a comma?\n"
     ]
    }
   ],
   "source": [
    "def mixdFracton(num,deno = 1):\n",
    "    remainder = num % deno\n",
    "    if remainder!= 0:\n",
    "         quotient = int(num/deno)\n",
    "         print(\"the mixd fraction=\" , quotient, \"(\" remainder, \"/\", deno,\")\")\n",
    "    else:\n",
    "        print(\"the given evaluates to a wole number:\")\n",
    "num = int(input(\"Enter a numerator: \"))  \n",
    "deno = int(input(\"Enter a denominator: \"))\n",
    "print(\"you enterd: \",num,\"/\",deno)\n",
    "if num > deno:\n",
    "    mixdFraction(num,deno)\n",
    "else:\n",
    "    print(\"It is a proper fraction: \")"
   ]
  },
  {
   "cell_type": "code",
   "execution_count": null,
   "id": "313c58b2-06f4-4dfa-b0f7-bb9fcfd3bfc1",
   "metadata": {},
   "outputs": [],
   "source": []
  }
 ],
 "metadata": {
  "kernelspec": {
   "display_name": "Python 3 (ipykernel)",
   "language": "python",
   "name": "python3"
  },
  "language_info": {
   "codemirror_mode": {
    "name": "ipython",
    "version": 3
   },
   "file_extension": ".py",
   "mimetype": "text/x-python",
   "name": "python",
   "nbconvert_exporter": "python",
   "pygments_lexer": "ipython3",
   "version": "3.13.5"
  }
 },
 "nbformat": 4,
 "nbformat_minor": 5
}
