{
 "cells": [
  {
   "cell_type": "code",
   "execution_count": null,
   "id": "87c8bde4-0095-4f47-a994-fb12c6c2be30",
   "metadata": {},
   "outputs": [],
   "source": [
    "try :\n",
    "    numerator = 50\n",
    "    denom = int(input(\"Enter The denominator\"))\n",
    "    quotient = (numerator/denom)\n",
    "    print(quotient)\n",
    "    print(\"division performed sucessfully\")\n",
    "except zeroDivisionError:\n",
    "    print(\"denominator as zero... not allowed\")\n",
    "print(“OUTSIDE try..except block\")"
   ]
  },
  {
   "cell_type": "code",
   "execution_count": 17,
   "id": "8fb02857-9e64-481b-a205-f1ec180c70d4",
   "metadata": {},
   "outputs": [
    {
     "name": "stdin",
     "output_type": "stream",
     "text": [
      "Enter the Denominator 0\n"
     ]
    },
    {
     "name": "stdout",
     "output_type": "stream",
     "text": [
      "OOPES... some exception raised\n"
     ]
    }
   ],
   "source": [
    "try:\n",
    "    numerator = 50\n",
    "    denom = int(input(\"Enter the Denominator\"))\n",
    "    quotient = (numerator/denom)\n",
    "    print(\"Division Performed Successfuly\")\n",
    "except ValueError:\n",
    "    print(\"Only INTEGERS shuld be Enterd\")\n",
    "except:\n",
    "    print(\"OOPES... some exception raised\")"
   ]
  },
  {
   "cell_type": "code",
   "execution_count": 14,
   "id": "2db8762c-ec59-4ac2-8415-0c871bdd873f",
   "metadata": {},
   "outputs": [
    {
     "name": "stdin",
     "output_type": "stream",
     "text": [
      "Enter The Denominator 0\n"
     ]
    },
    {
     "name": "stdout",
     "output_type": "stream",
     "text": [
      "Denominator as Zero is not allowed\n"
     ]
    }
   ],
   "source": [
    "try:\n",
    "    numerator = 50\n",
    "    denom = int(input(\"Enter The Denominator\"))\n",
    "    print(numerator/denom)\n",
    "    print(\"Division performed succesfully\")\n",
    "except ZeroDivisionError:\n",
    "    print(\"Denominator as Zero is not allowed\")\n",
    "except ValueError:\n",
    "    print(\"onlu intigers ahould be entered\")"
   ]
  },
  {
   "cell_type": "code",
   "execution_count": 24,
   "id": "039871ce-c39e-4719-ae2f-1ba960ffb938",
   "metadata": {},
   "outputs": [
    {
     "name": "stdin",
     "output_type": "stream",
     "text": [
      "Enter The Denominator 50\n"
     ]
    },
    {
     "name": "stdout",
     "output_type": "stream",
     "text": [
      "1.0\n",
      "Division performed succesfully\n",
      "the result of dividion opration is 10.0\n"
     ]
    }
   ],
   "source": [
    "try:\n",
    "    numerator = 50\n",
    "    denom = int(input(\"Enter The Denominator\"))\n",
    "    print(numerator/denom)\n",
    "    print(\"Division performed succesfully\")\n",
    "except ZeroDivisionError:\n",
    "    print(\"Denominator as Zero is not allowed\")\n",
    "except ValueError:\n",
    "    print(\"onlu intigers ahould be entered\")\n",
    "else:\n",
    "    print(\"the result of dividion opration is\", quotient)"
   ]
  },
  {
   "cell_type": "code",
   "execution_count": 26,
   "id": "5c85bb43-fb8a-46d5-a504-1fe4103ca468",
   "metadata": {},
   "outputs": [
    {
     "name": "stdin",
     "output_type": "stream",
     "text": [
      "Enter The Denominator 0\n"
     ]
    },
    {
     "name": "stdout",
     "output_type": "stream",
     "text": [
      "Denominator as Zero is not allowed\n",
      "over and out\n"
     ]
    }
   ],
   "source": [
    "try:\n",
    "    numerator = 50\n",
    "    denom = int(input(\"Enter The Denominator\"))\n",
    "    print(numerator/denom)\n",
    "    print(\"Division performed succesfully\")\n",
    "except ZeroDivisionError:\n",
    "    print(\"Denominator as Zero is not allowed\")\n",
    "except ValueError:\n",
    "    print(\"onlu intigers ahould be entered\")\n",
    "else:\n",
    "    print(\"the result of dividion opration is\", quotient)\n",
    "finally:\n",
    "    print(\"over and out\")"
   ]
  },
  {
   "cell_type": "code",
   "execution_count": null,
   "id": "5dca281b-8b9f-4ace-8b23-8ba8142dd57b",
   "metadata": {},
   "outputs": [],
   "source": []
  }
 ],
 "metadata": {
  "kernelspec": {
   "display_name": "Python 3 (ipykernel)",
   "language": "python",
   "name": "python3"
  },
  "language_info": {
   "codemirror_mode": {
    "name": "ipython",
    "version": 3
   },
   "file_extension": ".py",
   "mimetype": "text/x-python",
   "name": "python",
   "nbconvert_exporter": "python",
   "pygments_lexer": "ipython3",
   "version": "3.13.5"
  }
 },
 "nbformat": 4,
 "nbformat_minor": 5
}
