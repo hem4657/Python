{
 "cells": [
  {
   "cell_type": "code",
   "execution_count": 2,
   "id": "4a8eb4db-8c2b-4009-81e8-11b68767d131",
   "metadata": {},
   "outputs": [
    {
     "name": "stdout",
     "output_type": "stream",
     "text": [
      "1 2 3 "
     ]
    }
   ],
   "source": [
    "print(1,end=\" \")\n",
    "print(2,end=\" \")\n",
    "print(3,end=\" \")"
   ]
  },
  {
   "cell_type": "code",
   "execution_count": 6,
   "id": "189409c7-6bb4-4f3c-81b3-40e2a0a199b5",
   "metadata": {},
   "outputs": [
    {
     "name": "stdin",
     "output_type": "stream",
     "text": [
      "enter a number to find its fector:  6\n"
     ]
    },
    {
     "name": "stdout",
     "output_type": "stream",
     "text": [
      "1 2 3 6 "
     ]
    }
   ],
   "source": [
    "num = int(input(\"enter a number to find its fector: \"))\n",
    "print(1,end =\" \")\n",
    "factor = 2\n",
    "while factor <= num/2:\n",
    "    if num % factor == 0:\n",
    "        print(factor,end = \" \")\n",
    "    factor += 1\n",
    "        \n",
    "print(num,end=\" \")"
   ]
  },
  {
   "cell_type": "code",
   "execution_count": null,
   "id": "a1300aa0-c3cc-446d-be9a-364a7f775fea",
   "metadata": {},
   "outputs": [
    {
     "name": "stdout",
     "output_type": "stream",
     "text": [
      "enter number to find thair true, nagetive ends the loop\n"
     ]
    }
   ],
   "source": [
    "entry = 0\n",
    "sum = 0\n",
    "print(\"enter number to find thair true, nagetive ends the loop\")\n",
    "while True:\n",
    "    entry = int(input())\n",
    "    if(entry < 0):\n",
    "        break\n",
    "    sum += entry\n",
    "print(\"sum : \", sum)"
   ]
  },
  {
   "cell_type": "code",
   "execution_count": 2,
   "id": "4b34bba9-1e64-489d-b140-6ba23f8387fb",
   "metadata": {},
   "outputs": [
    {
     "name": "stdin",
     "output_type": "stream",
     "text": [
      "Enter the number to be cheked:  2\n"
     ]
    },
    {
     "name": "stdout",
     "output_type": "stream",
     "text": [
      "2 is a prime number\n"
     ]
    }
   ],
   "source": [
    "num = int(input(\"Enter the number to be cheked: \"))\n",
    "run = 0\n",
    "if num > 1 :\n",
    "    for i in range(2, int(num)):\n",
    "        if (num % i == 0):\n",
    "            run = 1\n",
    "            break\n",
    "    if run == 1:\n",
    "        print(num, \"is not a prime number\")\n",
    "    else:\n",
    "        print(num, \"is a prime number\")\n",
    "else:\n",
    "    print(\"Enter number is <= 1, execute agin!\")"
   ]
  },
  {
   "cell_type": "code",
   "execution_count": 7,
   "id": "1bf5562d-52b7-45cc-aa04-55333bcf1ec1",
   "metadata": {},
   "outputs": [
    {
     "name": "stdout",
     "output_type": "stream",
     "text": [
      "num has value 1\n",
      "num has value 2\n",
      "num has value 4\n",
      "num has value 5\n",
      "num has value 6\n",
      "num has value 7\n",
      "num has value 8\n",
      "num has value 9\n",
      "num has value 10\n",
      "end of loop\n"
     ]
    }
   ],
   "source": [
    "num = 0\n",
    "for num in range(0,10):\n",
    "    num = num + 1\n",
    "    if num == 3 || num == 6:\n",
    "        continue\n",
    "    print(\"num has value \" + str(num))\n",
    "print(\"end of loop\")"
   ]
  },
  {
   "cell_type": "code",
   "execution_count": null,
   "id": "987b4d8a-a800-4927-8907-ac1e18a93d20",
   "metadata": {},
   "outputs": [],
   "source": []
  }
 ],
 "metadata": {
  "kernelspec": {
   "display_name": "Python 3 (ipykernel)",
   "language": "python",
   "name": "python3"
  },
  "language_info": {
   "codemirror_mode": {
    "name": "ipython",
    "version": 3
   },
   "file_extension": ".py",
   "mimetype": "text/x-python",
   "name": "python",
   "nbconvert_exporter": "python",
   "pygments_lexer": "ipython3",
   "version": "3.13.5"
  }
 },
 "nbformat": 4,
 "nbformat_minor": 5
}
